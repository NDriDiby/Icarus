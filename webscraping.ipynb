{
 "cells": [
  {
   "cell_type": "code",
   "execution_count": 168,
   "metadata": {},
   "outputs": [
    {
     "name": "stdout",
     "output_type": "stream",
     "text": [
      "I'm ready to go\n"
     ]
    }
   ],
   "source": [
    "import pandas as pd\n",
    "import numpy as np\n",
    "import requests\n",
    "from bs4 import BeautifulSoup\n",
    "from selenium import webdriver\n",
    "print(\"I'm ready to go\")"
   ]
  },
  {
   "cell_type": "code",
   "execution_count": 169,
   "metadata": {},
   "outputs": [],
   "source": [
    "site= requests.get(\"https://www.imdb.com/title/tt7366338/reviews?ref_=tt_ql_3\").text"
   ]
  },
  {
   "cell_type": "code",
   "execution_count": 170,
   "metadata": {},
   "outputs": [],
   "source": [
    "soup = BeautifulSoup(site)"
   ]
  },
  {
   "cell_type": "code",
   "execution_count": 173,
   "metadata": {},
   "outputs": [],
   "source": [
    "text = soup.findAll('div',class_='text show-more__control')"
   ]
  },
  {
   "cell_type": "code",
   "execution_count": 174,
   "metadata": {},
   "outputs": [
    {
     "name": "stdout",
     "output_type": "stream",
     "text": [
      "I was born in Pripyat. I was four years old when the accident happened. Watching it is more horrifying than living through it. We didn't know what we were dealing with. It's not like a hurricane or an earthquake that takes you by surprise and causes massive destruction. Here everything looked normal, that day was just like any other day and yet you were told to abandon everything and just leave. The immediate casualties of the accident were not huge, but it had an enormous impact on lives of hundreds of thousands of people. I often think what my life would be like if this didn't happen.This mini series is a masterpiece, perfect in every way. Some people are complaining here that the actors don't speak Russian. I'm a native speaker of Russian and Ukrainian, I don't want the actors to speak Russian. You get so consumed by this show you stop noticing what language they speak.It's not a documentary, so not each and every detail is accurate, yet I would still call it authentic. The creators got the important stuff right... Both of my parents worked at Chernobyl plant, I grew up hearing stories and versions of what happened. I think this show is the best depiction of the Chernobyl disaster and the stories of its victims. This show is to remind all of us of the cost of lies.\n",
      "\n",
      "Hi. I'm from Kiev, Ukraine. I was born in 1983 and I was 2 and a half years when the Chernobyl catastrophe happened. I remember 1980s and I can tell that the authors of this film made a GREAT job to show every detail of what the world look for is in the times of Soviet union. The telephones, the clothes, the haircuts, the cracked paint on the window sills, even the door glass is similar to what I remember. There are couple of things which seemed weird to me: firefighters didn't have the red stars on their helmets, and most of the time people use the short forms of the names when they talk to each other (Vasya, not Vasiliy, Lyuda, not Lyudmila).\n",
      "But the most important thing that this film shows is that the soviet authoritiies lied to people about this catastrophe all the time. For example, in Kiev which is 130 km from Chernobyl, nobody knew about the high levels of radiation till the middle of May, they even held a parade on the first of May, when the level of radiation in Kiev was 100 times higher than normal (iodine131 isotope) and nobody gave us the iodine pills. Everyone who tried to tell the truth was called the provocateur and could even be fired from work.\n",
      "I highly recommend to watch this film. This is a tribute to all the heroes who lost their lives in a radioactive flame and saved all of us from death.\n",
      "\n",
      "A Belarusian here, born in 1983. Parents were scientists, knew everything on the 27th. Chernobyl is never forgotten in Belarus and all the details of the tragedy (a flawed reactor, Soviet style apparatchiks in control, a failed experiment, a clumsy cover-up) are widely known. Yet the series managed to depict the horrible events in a way never before seen. A definite tour de force, I had to literally pause a couple of times to comprehend what had just been shown. Goose bumps and tears, what a masterpiece. Likvidatory - heroes, who contained Chernobyl - should never be forgotten.Grim Soviet atmosphere depicted accurately apart from some very very minor details. Surprised that a Swedish director who made music videos for Madonna and his English-speaking cast managed to portray Chernobyl events better, than anybody from the countries most traumatized by the explosion.The tragedy will live forever because of this haunting masterpiece, what a brilliant creative achievement.\n"
     ]
    }
   ],
   "source": [
    "print(text[0].text)\n",
    "print()\n",
    "print(text[1].text)\n",
    "print()\n",
    "print(text[2].text)"
   ]
  },
  {
   "cell_type": "code",
   "execution_count": 137,
   "metadata": {},
   "outputs": [],
   "source": [
    "rate = soup.findAll('span',class_=\"point-scale\")"
   ]
  },
  {
   "cell_type": "code",
   "execution_count": 138,
   "metadata": {},
   "outputs": [
    {
     "name": "stdout",
     "output_type": "stream",
     "text": [
      "10\n",
      "10\n",
      "10\n"
     ]
    }
   ],
   "source": [
    "print(rate[0].text[1:3])\n",
    "print(rate[1].text[1:3])\n",
    "print(rate[2].text[1:3])"
   ]
  },
  {
   "cell_type": "code",
   "execution_count": 139,
   "metadata": {},
   "outputs": [],
   "source": [
    "title = soup.findAll('a',class_=\"title\")"
   ]
  },
  {
   "cell_type": "code",
   "execution_count": 177,
   "metadata": {},
   "outputs": [
    {
     "name": "stdout",
     "output_type": "stream",
     "text": [
      " They got it right\n",
      "\n",
      " I highly recommend this film!\n",
      "\n",
      " Goosebumps and tears\n",
      "\n"
     ]
    }
   ],
   "source": [
    "print(title[0].text)\n",
    "print(title[1].text)\n",
    "print(title[2].text)"
   ]
  },
  {
   "cell_type": "code",
   "execution_count": 153,
   "metadata": {},
   "outputs": [],
   "source": [
    "rating=[]\n",
    "titles=[]\n",
    "texts=[]\n",
    "for i in range(0,len(text)):\n",
    "    r= rate[i].text[1:3]\n",
    "    t = text[i].text\n",
    "    tle = title[i].text\n",
    "    rating.append(r)\n",
    "    titles.append(tle)\n",
    "    texts.append(t)"
   ]
  },
  {
   "cell_type": "code",
   "execution_count": 154,
   "metadata": {},
   "outputs": [
    {
     "name": "stdout",
     "output_type": "stream",
     "text": [
      "34\n",
      "34\n",
      "34\n"
     ]
    }
   ],
   "source": [
    "print(len(rating))\n",
    "print(len(titles))\n",
    "print(len(texts))"
   ]
  },
  {
   "cell_type": "code",
   "execution_count": 178,
   "metadata": {},
   "outputs": [
    {
     "data": {
      "text/html": [
       "<div>\n",
       "<style scoped>\n",
       "    .dataframe tbody tr th:only-of-type {\n",
       "        vertical-align: middle;\n",
       "    }\n",
       "\n",
       "    .dataframe tbody tr th {\n",
       "        vertical-align: top;\n",
       "    }\n",
       "\n",
       "    .dataframe thead th {\n",
       "        text-align: right;\n",
       "    }\n",
       "</style>\n",
       "<table border=\"1\" class=\"dataframe\">\n",
       "  <thead>\n",
       "    <tr style=\"text-align: right;\">\n",
       "      <th></th>\n",
       "      <th>titles</th>\n",
       "      <th>texts</th>\n",
       "      <th>rating</th>\n",
       "    </tr>\n",
       "  </thead>\n",
       "  <tbody>\n",
       "    <tr>\n",
       "      <th>0</th>\n",
       "      <td>They got it right\\n</td>\n",
       "      <td>I'm Russian. Amazing work! Newer, you hear thi...</td>\n",
       "      <td>10</td>\n",
       "    </tr>\n",
       "    <tr>\n",
       "      <th>1</th>\n",
       "      <td>I highly recommend this film!\\n</td>\n",
       "      <td>'Chernobyl' is scarier than most horror movies...</td>\n",
       "      <td>10</td>\n",
       "    </tr>\n",
       "    <tr>\n",
       "      <th>2</th>\n",
       "      <td>Goosebumps and tears\\n</td>\n",
       "      <td>The first episode somehow surpassed my expecta...</td>\n",
       "      <td>10</td>\n",
       "    </tr>\n",
       "    <tr>\n",
       "      <th>3</th>\n",
       "      <td>No hero wakes up wanting to die\\n</td>\n",
       "      <td>What is so terrifying is it's not trying to be...</td>\n",
       "      <td>10</td>\n",
       "    </tr>\n",
       "    <tr>\n",
       "      <th>4</th>\n",
       "      <td>So far looks excellent\\n</td>\n",
       "      <td>In terms of series expression, it moves on in ...</td>\n",
       "      <td>10</td>\n",
       "    </tr>\n",
       "    <tr>\n",
       "      <th>5</th>\n",
       "      <td>Unbelievable\\n</td>\n",
       "      <td>I'm Russian, my father went to Chernobyl as a ...</td>\n",
       "      <td>10</td>\n",
       "    </tr>\n",
       "    <tr>\n",
       "      <th>6</th>\n",
       "      <td>Incredible\\n</td>\n",
       "      <td>Grim is an understatement.This is one of the v...</td>\n",
       "      <td>10</td>\n",
       "    </tr>\n",
       "    <tr>\n",
       "      <th>7</th>\n",
       "      <td>Bleak, Unsettling, Haunting All Throughout\\n</td>\n",
       "      <td>This will go down in history. This will be sho...</td>\n",
       "      <td>10</td>\n",
       "    </tr>\n",
       "    <tr>\n",
       "      <th>8</th>\n",
       "      <td>HBO did it again!\\n</td>\n",
       "      <td>Just finished the first episode. I was waiting...</td>\n",
       "      <td>10</td>\n",
       "    </tr>\n",
       "    <tr>\n",
       "      <th>9</th>\n",
       "      <td>The truth is scarier than any horror movie.\\n</td>\n",
       "      <td>Only two episodes in, and I'm totally hooked. ...</td>\n",
       "      <td>10</td>\n",
       "    </tr>\n",
       "    <tr>\n",
       "      <th>10</th>\n",
       "      <td>Now you look like the minister of coal!\\n</td>\n",
       "      <td>My parents were located 120 miles north of the...</td>\n",
       "      <td>10</td>\n",
       "    </tr>\n",
       "    <tr>\n",
       "      <th>11</th>\n",
       "      <td>Emotionally drained...\\n</td>\n",
       "      <td>After seeing the first episode of Chernobyl I ...</td>\n",
       "      <td>10</td>\n",
       "    </tr>\n",
       "    <tr>\n",
       "      <th>12</th>\n",
       "      <td>What is the cost of lies?\\n</td>\n",
       "      <td>I watched a lot of material on this matter, an...</td>\n",
       "      <td>10</td>\n",
       "    </tr>\n",
       "    <tr>\n",
       "      <th>13</th>\n",
       "      <td>Cracking.\\n</td>\n",
       "      <td>So far, the show has been amazing!! As a scien...</td>\n",
       "      <td>10</td>\n",
       "    </tr>\n",
       "    <tr>\n",
       "      <th>14</th>\n",
       "      <td>Shocking.\\n</td>\n",
       "      <td>They say reality is far more horrifying than f...</td>\n",
       "      <td>10</td>\n",
       "    </tr>\n",
       "    <tr>\n",
       "      <th>15</th>\n",
       "      <td>Highly Recommended\\n</td>\n",
       "      <td>I am Russian. I was 16 when this happened. Fir...</td>\n",
       "      <td>10</td>\n",
       "    </tr>\n",
       "    <tr>\n",
       "      <th>16</th>\n",
       "      <td>So far, so great 👍👍👍\\n</td>\n",
       "      <td>Easily the best miniseries I have seen. Beauti...</td>\n",
       "      <td>10</td>\n",
       "    </tr>\n",
       "    <tr>\n",
       "      <th>17</th>\n",
       "      <td>Amazing\\n</td>\n",
       "      <td>Oh God. It's stunning. I'm impressed. Good job...</td>\n",
       "      <td>10</td>\n",
       "    </tr>\n",
       "    <tr>\n",
       "      <th>18</th>\n",
       "      <td>Just watch it (!)\\n</td>\n",
       "      <td>Just watched the first episode easily the best...</td>\n",
       "      <td>10</td>\n",
       "    </tr>\n",
       "    <tr>\n",
       "      <th>19</th>\n",
       "      <td>It is hard to overestimate the importance of ...</td>\n",
       "      <td>I remember how it happened. I remember that so...</td>\n",
       "      <td>10</td>\n",
       "    </tr>\n",
       "    <tr>\n",
       "      <th>20</th>\n",
       "      <td>The Black True Tale\\n</td>\n",
       "      <td>It's not often I watch something that leaves m...</td>\n",
       "      <td>10</td>\n",
       "    </tr>\n",
       "    <tr>\n",
       "      <th>21</th>\n",
       "      <td>Catastrophic, breathtaking, accurate\\n</td>\n",
       "      <td>2nd episode and this series has already jumped...</td>\n",
       "      <td>10</td>\n",
       "    </tr>\n",
       "    <tr>\n",
       "      <th>22</th>\n",
       "      <td>A duty of memory that was necessary\\n</td>\n",
       "      <td>I thought I became victim to the low attention...</td>\n",
       "      <td>10</td>\n",
       "    </tr>\n",
       "    <tr>\n",
       "      <th>23</th>\n",
       "      <td>It is almost a documentary, reconstruction of...</td>\n",
       "      <td>I have watched all TV shows you can think of. ...</td>\n",
       "      <td>10</td>\n",
       "    </tr>\n",
       "    <tr>\n",
       "      <th>24</th>\n",
       "      <td>Requiem for Lies\\n</td>\n",
       "      <td>I've seen all the documentaries - so I knew mo...</td>\n",
       "      <td>10</td>\n",
       "    </tr>\n",
       "    <tr>\n",
       "      <th>25</th>\n",
       "      <td>For the uninitiated, this is the most thoroug...</td>\n",
       "      <td>I'm Polish, I was 8 years old when that happen...</td>\n",
       "      <td>10</td>\n",
       "    </tr>\n",
       "    <tr>\n",
       "      <th>26</th>\n",
       "      <td>Phenomenal\\n</td>\n",
       "      <td>I would suggest adding Horror to the genre of ...</td>\n",
       "      <td>10</td>\n",
       "    </tr>\n",
       "    <tr>\n",
       "      <th>27</th>\n",
       "      <td>Excellence in every detail\\n</td>\n",
       "      <td>I'm truly enjoying watching this series! For m...</td>\n",
       "      <td>10</td>\n",
       "    </tr>\n",
       "    <tr>\n",
       "      <th>28</th>\n",
       "      <td>Amazing\\n</td>\n",
       "      <td>Been at the sight, read all there was to read ...</td>\n",
       "      <td>10</td>\n",
       "    </tr>\n",
       "    <tr>\n",
       "      <th>29</th>\n",
       "      <td>Chernobyl\\n</td>\n",
       "      <td>Terrifying, outstanding &amp; heartbreaking all at...</td>\n",
       "      <td>10</td>\n",
       "    </tr>\n",
       "    <tr>\n",
       "      <th>30</th>\n",
       "      <td>Outstanding\\n</td>\n",
       "      <td>I'm born in Bulgaria in 1979. I was 6, 1st gra...</td>\n",
       "      <td>10</td>\n",
       "    </tr>\n",
       "    <tr>\n",
       "      <th>31</th>\n",
       "      <td>Incredibly accurate\\n</td>\n",
       "      <td>The first episode kicks off without any dilemm...</td>\n",
       "      <td>10</td>\n",
       "    </tr>\n",
       "    <tr>\n",
       "      <th>32</th>\n",
       "      <td>I remember\\n</td>\n",
       "      <td>I don't like writing long reviews, but let me ...</td>\n",
       "      <td>10</td>\n",
       "    </tr>\n",
       "    <tr>\n",
       "      <th>33</th>\n",
       "      <td>\"What is the cost of lies?\"\\n</td>\n",
       "      <td>This programme had me on the edge of my seat. ...</td>\n",
       "      <td>10</td>\n",
       "    </tr>\n",
       "  </tbody>\n",
       "</table>\n",
       "</div>"
      ],
      "text/plain": [
       "                                               titles  \\\n",
       "0                                 They got it right\\n   \n",
       "1                     I highly recommend this film!\\n   \n",
       "2                              Goosebumps and tears\\n   \n",
       "3                   No hero wakes up wanting to die\\n   \n",
       "4                            So far looks excellent\\n   \n",
       "5                                      Unbelievable\\n   \n",
       "6                                        Incredible\\n   \n",
       "7        Bleak, Unsettling, Haunting All Throughout\\n   \n",
       "8                                 HBO did it again!\\n   \n",
       "9       The truth is scarier than any horror movie.\\n   \n",
       "10          Now you look like the minister of coal!\\n   \n",
       "11                           Emotionally drained...\\n   \n",
       "12                        What is the cost of lies?\\n   \n",
       "13                                        Cracking.\\n   \n",
       "14                                        Shocking.\\n   \n",
       "15                               Highly Recommended\\n   \n",
       "16                             So far, so great 👍👍👍\\n   \n",
       "17                                          Amazing\\n   \n",
       "18                                Just watch it (!)\\n   \n",
       "19   It is hard to overestimate the importance of ...   \n",
       "20                              The Black True Tale\\n   \n",
       "21             Catastrophic, breathtaking, accurate\\n   \n",
       "22              A duty of memory that was necessary\\n   \n",
       "23   It is almost a documentary, reconstruction of...   \n",
       "24                                 Requiem for Lies\\n   \n",
       "25   For the uninitiated, this is the most thoroug...   \n",
       "26                                       Phenomenal\\n   \n",
       "27                       Excellence in every detail\\n   \n",
       "28                                          Amazing\\n   \n",
       "29                                        Chernobyl\\n   \n",
       "30                                      Outstanding\\n   \n",
       "31                              Incredibly accurate\\n   \n",
       "32                                       I remember\\n   \n",
       "33                      \"What is the cost of lies?\"\\n   \n",
       "\n",
       "                                                texts rating  \n",
       "0   I'm Russian. Amazing work! Newer, you hear thi...     10  \n",
       "1   'Chernobyl' is scarier than most horror movies...     10  \n",
       "2   The first episode somehow surpassed my expecta...     10  \n",
       "3   What is so terrifying is it's not trying to be...     10  \n",
       "4   In terms of series expression, it moves on in ...     10  \n",
       "5   I'm Russian, my father went to Chernobyl as a ...     10  \n",
       "6   Grim is an understatement.This is one of the v...     10  \n",
       "7   This will go down in history. This will be sho...     10  \n",
       "8   Just finished the first episode. I was waiting...     10  \n",
       "9   Only two episodes in, and I'm totally hooked. ...     10  \n",
       "10  My parents were located 120 miles north of the...     10  \n",
       "11  After seeing the first episode of Chernobyl I ...     10  \n",
       "12  I watched a lot of material on this matter, an...     10  \n",
       "13  So far, the show has been amazing!! As a scien...     10  \n",
       "14  They say reality is far more horrifying than f...     10  \n",
       "15  I am Russian. I was 16 when this happened. Fir...     10  \n",
       "16  Easily the best miniseries I have seen. Beauti...     10  \n",
       "17  Oh God. It's stunning. I'm impressed. Good job...     10  \n",
       "18  Just watched the first episode easily the best...     10  \n",
       "19  I remember how it happened. I remember that so...     10  \n",
       "20  It's not often I watch something that leaves m...     10  \n",
       "21  2nd episode and this series has already jumped...     10  \n",
       "22  I thought I became victim to the low attention...     10  \n",
       "23  I have watched all TV shows you can think of. ...     10  \n",
       "24  I've seen all the documentaries - so I knew mo...     10  \n",
       "25  I'm Polish, I was 8 years old when that happen...     10  \n",
       "26  I would suggest adding Horror to the genre of ...     10  \n",
       "27  I'm truly enjoying watching this series! For m...     10  \n",
       "28  Been at the sight, read all there was to read ...     10  \n",
       "29  Terrifying, outstanding & heartbreaking all at...     10  \n",
       "30  I'm born in Bulgaria in 1979. I was 6, 1st gra...     10  \n",
       "31  The first episode kicks off without any dilemm...     10  \n",
       "32  I don't like writing long reviews, but let me ...     10  \n",
       "33  This programme had me on the edge of my seat. ...     10  "
      ]
     },
     "execution_count": 178,
     "metadata": {},
     "output_type": "execute_result"
    }
   ],
   "source": [
    "df=pd.DataFrame(zip(titles,texts,rating),columns = ['titles','texts','rating'])\n",
    "df"
   ]
  },
  {
   "cell_type": "code",
   "execution_count": 132,
   "metadata": {},
   "outputs": [
    {
     "data": {
      "text/plain": [
       "0     I was born in Pripyat. I was four years old wh...\n",
       "1     Hi. I'm from Kiev, Ukraine. I was born in 1983...\n",
       "2     A Belarusian here, born in 1983. Parents were ...\n",
       "3     As my mother tells it, the weather was quite n...\n",
       "4     Im ukrainian, born in 1988 and still live here...\n",
       "5     I'm Russian. Amazing work! Newer, you hear thi...\n",
       "6     My husband grew up near Kyiv and his father dr...\n",
       "7     'Chernobyl' is scarier than most horror movies...\n",
       "8     The first episode somehow surpassed my expecta...\n",
       "9     What is so terrifying is it's not trying to be...\n",
       "10    In terms of series expression, it moves on in ...\n",
       "11    I'm Russian, my father went to Chernobyl as a ...\n",
       "12    \"What is the cost of lies?\". This question is ...\n",
       "13    Grim is an understatement.This is one of the v...\n",
       "14    This will go down in history. This will be sho...\n",
       "15    Just finished the first episode. I was waiting...\n",
       "16    Only two episodes in, and I'm totally hooked. ...\n",
       "17    I work as an apprentice within the nuclear ind...\n",
       "18    30th of April, 1986, was a cloudless, sunny da...\n",
       "19    I was born in Ukraine, 1971. Parents - Soviet ...\n",
       "20    I am from Minsk, Belarus, same as Ulana Khomyu...\n",
       "21    My parents were located 120 miles north of the...\n",
       "22    After seeing the first episode of Chernobyl I ...\n",
       "23    I watched a lot of material on this matter, an...\n",
       "24    This is a heartbreaking story based on true ev...\n",
       "Name: texts, dtype: object"
      ]
     },
     "execution_count": 132,
     "metadata": {},
     "output_type": "execute_result"
    }
   ],
   "source": [
    "df.texts"
   ]
  },
  {
   "cell_type": "code",
   "execution_count": 1,
   "metadata": {},
   "outputs": [],
   "source": [
    "from selenium import webdriver      \n",
    "from selenium.common.exceptions import NoSuchElementException\n",
    "from selenium.webdriver.common.by import By\n",
    "from selenium.webdriver.support.ui import WebDriverWait\n",
    "from selenium.webdriver.support import expected_conditions as EC\n",
    "import time"
   ]
  },
  {
   "cell_type": "code",
   "execution_count": null,
   "metadata": {},
   "outputs": [],
   "source": []
  }
 ],
 "metadata": {
  "kernelspec": {
   "display_name": "Python 3",
   "language": "python",
   "name": "python3"
  },
  "language_info": {
   "codemirror_mode": {
    "name": "ipython",
    "version": 3
   },
   "file_extension": ".py",
   "mimetype": "text/x-python",
   "name": "python",
   "nbconvert_exporter": "python",
   "pygments_lexer": "ipython3",
   "version": "3.7.3"
  }
 },
 "nbformat": 4,
 "nbformat_minor": 2
}
