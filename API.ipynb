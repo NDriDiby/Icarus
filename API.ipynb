{
 "cells": [
  {
   "cell_type": "code",
   "execution_count": 1,
   "metadata": {},
   "outputs": [],
   "source": [
    "import requests"
   ]
  },
  {
   "cell_type": "markdown",
   "metadata": {},
   "source": [
    "# BBC News"
   ]
  },
  {
   "cell_type": "code",
   "execution_count": 2,
   "metadata": {},
   "outputs": [
    {
     "name": "stdout",
     "output_type": "stream",
     "text": [
      "1 Ukrainian passenger plane crashes in Iran\n",
      "2 Misleading maps of Australia fires go viral\n",
      "3 Prozac Nation author dies aged 52\n",
      "4 Dad of UK's worst rapist: He got what he deserved\n",
      "5 'It reminded me of War of the Worlds'\n",
      "6 How the world has responded to Australia's fires\n",
      "7 Harvey Weinstein rebuked for using phone in court\n",
      "8 Trump and Bloomberg to air duelling Super Bowl ads\n",
      "9 World's worst measles outbreak kills 6,000 in DRC\n",
      "10 Guaidó storms parliament to be sworn in as Speaker\n"
     ]
    }
   ],
   "source": [
    "def NewsFromBBC(): \n",
    "      \n",
    "    # BBC news api \n",
    "    main_url = \" https://newsapi.org/v1/articles?source=bbc-news&sortBy=top&apiKey=73b5a2f3b002433fbb4b62f89fda6241\"\n",
    "  \n",
    "    # fetching data in json format \n",
    "    open_bbc_page = requests.get(main_url).json() \n",
    "  \n",
    "    # getting all articles in a string article \n",
    "    article = open_bbc_page[\"articles\"] \n",
    "  \n",
    "    # empty list which will  \n",
    "    # contain all trending news \n",
    "    results = [] \n",
    "      \n",
    "    for ar in article: \n",
    "        results.append(ar[\"title\"]) \n",
    "          \n",
    "    for i in range(len(results)): \n",
    "          \n",
    "        # printing all trending news \n",
    "        print(i + 1, results[i])                  \n",
    "  \n",
    " # Driver Code \n",
    "if __name__ == '__main__': \n",
    "      \n",
    "    # function call \n",
    "    NewsFromBBC()  "
   ]
  },
  {
   "cell_type": "code",
   "execution_count": 3,
   "metadata": {},
   "outputs": [],
   "source": [
    "# NEW YORK TIME"
   ]
  },
  {
   "cell_type": "code",
   "execution_count": null,
   "metadata": {},
   "outputs": [],
   "source": []
  }
 ],
 "metadata": {
  "kernelspec": {
   "display_name": "Python 3",
   "language": "python",
   "name": "python3"
  },
  "language_info": {
   "codemirror_mode": {
    "name": "ipython",
    "version": 3
   },
   "file_extension": ".py",
   "mimetype": "text/x-python",
   "name": "python",
   "nbconvert_exporter": "python",
   "pygments_lexer": "ipython3",
   "version": "3.7.3"
  }
 },
 "nbformat": 4,
 "nbformat_minor": 2
}
