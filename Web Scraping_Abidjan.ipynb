{
 "cells": [
  {
   "cell_type": "code",
   "execution_count": 5,
   "metadata": {},
   "outputs": [
    {
     "name": "stdout",
     "output_type": "stream",
     "text": [
      "I'm ready to go\n"
     ]
    }
   ],
   "source": [
    "#import tools\n",
    "import pandas as pd\n",
    "import numpy as np\n",
    "import requests\n",
    "from bs4 import BeautifulSoup\n",
    "print(\"I'm ready to go\")"
   ]
  },
  {
   "cell_type": "code",
   "execution_count": 6,
   "metadata": {},
   "outputs": [],
   "source": [
    "result=requests.get(\"http://hikersbay.com/prices/cotedivoire/abidjan?lang=en\").text"
   ]
  },
  {
   "cell_type": "markdown",
   "metadata": {},
   "source": [
    "# The Soup"
   ]
  },
  {
   "cell_type": "code",
   "execution_count": 10,
   "metadata": {},
   "outputs": [],
   "source": [
    "soup=BeautifulSoup(result,'html')"
   ]
  },
  {
   "cell_type": "code",
   "execution_count": 12,
   "metadata": {},
   "outputs": [
    {
     "data": {
      "text/plain": [
       "<title>Abidjan,Ivory Coast - prices, cost of travel and accommodation 2019</title>"
      ]
     },
     "execution_count": 12,
     "metadata": {},
     "output_type": "execute_result"
    }
   ],
   "source": [
    "soup.title"
   ]
  },
  {
   "cell_type": "code",
   "execution_count": 14,
   "metadata": {},
   "outputs": [],
   "source": [
    "products=soup.findAll(\"td\",class_='product-name')"
   ]
  },
  {
   "cell_type": "code",
   "execution_count": 16,
   "metadata": {},
   "outputs": [
    {
     "data": {
      "text/plain": [
       "[<td class=\"product-name\">Meal in a cheap restaurant</td>,\n",
       " <td class=\"product-name\">Meal for 2 People, Mid-range Restaurant, Three-course</td>,\n",
       " <td class=\"product-name\">McMeal at McDonalds (or Equivalent Combo Meal)</td>,\n",
       " <td class=\"product-name\">Domestic Beer (0.5 liter draught)</td>,\n",
       " <td class=\"product-name\">Imported Beer (0.33 liter bottle)</td>,\n",
       " <td class=\"product-name\">Coke/Pepsi (0.33 liter bottle)</td>,\n",
       " <td class=\"product-name\">Water (0.33 liter bottle)</td>,\n",
       " <td class=\"product-name\">Cappuccino (regular)</td>,\n",
       " <td class=\"product-name\">Espresso Coffee</td>,\n",
       " <td class=\"product-name\">Cheeseburger (fastfood)</td>]"
      ]
     },
     "execution_count": 16,
     "metadata": {},
     "output_type": "execute_result"
    }
   ],
   "source": [
    "products[0:10]"
   ]
  },
  {
   "cell_type": "code",
   "execution_count": 18,
   "metadata": {},
   "outputs": [
    {
     "name": "stdout",
     "output_type": "stream",
     "text": [
      "Meal in a cheap restaurant\n",
      "Meal for 2 People, Mid-range Restaurant, Three-course\n",
      "McMeal at McDonalds (or Equivalent Combo Meal)\n",
      "Domestic Beer (0.5 liter draught)\n"
     ]
    }
   ],
   "source": [
    "print(products[0].text)\n",
    "print(products[1].text)\n",
    "print(products[2].text)\n",
    "print(products[3].text)"
   ]
  },
  {
   "cell_type": "code",
   "execution_count": 19,
   "metadata": {},
   "outputs": [
    {
     "data": {
      "text/plain": [
       "62"
      ]
     },
     "execution_count": 19,
     "metadata": {},
     "output_type": "execute_result"
    }
   ],
   "source": [
    "len(products)"
   ]
  },
  {
   "cell_type": "markdown",
   "metadata": {},
   "source": [
    "# let's use a for loop to get all the products"
   ]
  },
  {
   "cell_type": "code",
   "execution_count": 25,
   "metadata": {},
   "outputs": [],
   "source": [
    "product_name=[]\n",
    "city=[]\n",
    "for i in range(0,len(products)):\n",
    "    pro= products[i].text\n",
    "    town=\"Abidjan\"\n",
    "    product_name.append(pro)\n",
    "    city.append(town)"
   ]
  },
  {
   "cell_type": "code",
   "execution_count": 26,
   "metadata": {},
   "outputs": [
    {
     "data": {
      "text/plain": [
       "['Meal in a cheap restaurant',\n",
       " 'Meal for 2 People, Mid-range Restaurant, Three-course',\n",
       " 'McMeal at McDonalds (or Equivalent Combo Meal)',\n",
       " 'Domestic Beer (0.5 liter draught)',\n",
       " 'Imported Beer (0.33 liter bottle)',\n",
       " 'Coke/Pepsi (0.33 liter bottle)',\n",
       " 'Water (0.33 liter bottle)',\n",
       " 'Cappuccino (regular)',\n",
       " 'Espresso Coffee',\n",
       " 'Cheeseburger (fastfood)']"
      ]
     },
     "execution_count": 26,
     "metadata": {},
     "output_type": "execute_result"
    }
   ],
   "source": [
    "product_name[0:10]"
   ]
  },
  {
   "cell_type": "code",
   "execution_count": 28,
   "metadata": {},
   "outputs": [
    {
     "data": {
      "text/plain": [
       "62"
      ]
     },
     "execution_count": 28,
     "metadata": {},
     "output_type": "execute_result"
    }
   ],
   "source": [
    "len(city)"
   ]
  },
  {
   "cell_type": "markdown",
   "metadata": {},
   "source": [
    "# get the price of each product in XOF"
   ]
  },
  {
   "cell_type": "code",
   "execution_count": 29,
   "metadata": {},
   "outputs": [],
   "source": [
    "price=soup.findAll('td',class_=\"price\")"
   ]
  },
  {
   "cell_type": "markdown",
   "metadata": {},
   "source": [
    "# we need a for loop"
   ]
  },
  {
   "cell_type": "code",
   "execution_count": 38,
   "metadata": {},
   "outputs": [
    {
     "data": {
      "text/plain": [
       "245"
      ]
     },
     "execution_count": 38,
     "metadata": {},
     "output_type": "execute_result"
    }
   ],
   "source": [
    "len(price)"
   ]
  },
  {
   "cell_type": "code",
   "execution_count": 59,
   "metadata": {},
   "outputs": [],
   "source": [
    "price_item=[]\n",
    "for i in range(1,len(price),4):\n",
    "    pri=price[i].text[40:47]\n",
    "    price_item.append(pri)"
   ]
  },
  {
   "cell_type": "code",
   "execution_count": 60,
   "metadata": {},
   "outputs": [
    {
     "data": {
      "text/plain": [
       "['2,000 X',\n",
       " '20,000 ',\n",
       " '5,000 X',\n",
       " '1,000 X',\n",
       " '2,500 X',\n",
       " '600 XOF',\n",
       " '338 XOF',\n",
       " '1,900 X',\n",
       " '1,300 X',\n",
       " '1,500 X']"
      ]
     },
     "execution_count": 60,
     "metadata": {},
     "output_type": "execute_result"
    }
   ],
   "source": [
    "price_item[0:10]"
   ]
  },
  {
   "cell_type": "markdown",
   "metadata": {},
   "source": [
    "# let's put everything in a dataframe\n"
   ]
  },
  {
   "cell_type": "code",
   "execution_count": 61,
   "metadata": {},
   "outputs": [],
   "source": [
    "df_abj=pd.DataFrame(zip(product_name,price_item,city),columns=[\"products\",\"price\",\"city\"])"
   ]
  },
  {
   "cell_type": "code",
   "execution_count": 62,
   "metadata": {},
   "outputs": [
    {
     "data": {
      "text/html": [
       "<div>\n",
       "<style scoped>\n",
       "    .dataframe tbody tr th:only-of-type {\n",
       "        vertical-align: middle;\n",
       "    }\n",
       "\n",
       "    .dataframe tbody tr th {\n",
       "        vertical-align: top;\n",
       "    }\n",
       "\n",
       "    .dataframe thead th {\n",
       "        text-align: right;\n",
       "    }\n",
       "</style>\n",
       "<table border=\"1\" class=\"dataframe\">\n",
       "  <thead>\n",
       "    <tr style=\"text-align: right;\">\n",
       "      <th></th>\n",
       "      <th>products</th>\n",
       "      <th>price</th>\n",
       "      <th>city</th>\n",
       "    </tr>\n",
       "  </thead>\n",
       "  <tbody>\n",
       "    <tr>\n",
       "      <th>0</th>\n",
       "      <td>Meal in a cheap restaurant</td>\n",
       "      <td>2,000 X</td>\n",
       "      <td>Abidjan</td>\n",
       "    </tr>\n",
       "    <tr>\n",
       "      <th>1</th>\n",
       "      <td>Meal for 2 People, Mid-range Restaurant, Three...</td>\n",
       "      <td>20,000</td>\n",
       "      <td>Abidjan</td>\n",
       "    </tr>\n",
       "    <tr>\n",
       "      <th>2</th>\n",
       "      <td>McMeal at McDonalds (or Equivalent Combo Meal)</td>\n",
       "      <td>5,000 X</td>\n",
       "      <td>Abidjan</td>\n",
       "    </tr>\n",
       "    <tr>\n",
       "      <th>3</th>\n",
       "      <td>Domestic Beer (0.5 liter draught)</td>\n",
       "      <td>1,000 X</td>\n",
       "      <td>Abidjan</td>\n",
       "    </tr>\n",
       "    <tr>\n",
       "      <th>4</th>\n",
       "      <td>Imported Beer (0.33 liter bottle)</td>\n",
       "      <td>2,500 X</td>\n",
       "      <td>Abidjan</td>\n",
       "    </tr>\n",
       "    <tr>\n",
       "      <th>5</th>\n",
       "      <td>Coke/Pepsi (0.33 liter bottle)</td>\n",
       "      <td>600 XOF</td>\n",
       "      <td>Abidjan</td>\n",
       "    </tr>\n",
       "    <tr>\n",
       "      <th>6</th>\n",
       "      <td>Water (0.33 liter bottle)</td>\n",
       "      <td>338 XOF</td>\n",
       "      <td>Abidjan</td>\n",
       "    </tr>\n",
       "    <tr>\n",
       "      <th>7</th>\n",
       "      <td>Cappuccino (regular)</td>\n",
       "      <td>1,900 X</td>\n",
       "      <td>Abidjan</td>\n",
       "    </tr>\n",
       "    <tr>\n",
       "      <th>8</th>\n",
       "      <td>Espresso Coffee</td>\n",
       "      <td>1,300 X</td>\n",
       "      <td>Abidjan</td>\n",
       "    </tr>\n",
       "    <tr>\n",
       "      <th>9</th>\n",
       "      <td>Cheeseburger (fastfood)</td>\n",
       "      <td>1,500 X</td>\n",
       "      <td>Abidjan</td>\n",
       "    </tr>\n",
       "    <tr>\n",
       "      <th>10</th>\n",
       "      <td>Milk (regular), (1 liter)</td>\n",
       "      <td>950 XOF</td>\n",
       "      <td>Abidjan</td>\n",
       "    </tr>\n",
       "    <tr>\n",
       "      <th>11</th>\n",
       "      <td>A loaf of fresh white bread (500g)</td>\n",
       "      <td>238 XOF</td>\n",
       "      <td>Abidjan</td>\n",
       "    </tr>\n",
       "    <tr>\n",
       "      <th>12</th>\n",
       "      <td>Eggs (regular) (12)</td>\n",
       "      <td>1,300 X</td>\n",
       "      <td>Abidjan</td>\n",
       "    </tr>\n",
       "    <tr>\n",
       "      <th>13</th>\n",
       "      <td>Local Cheese (1kg)</td>\n",
       "      <td>6,900 X</td>\n",
       "      <td>Abidjan</td>\n",
       "    </tr>\n",
       "    <tr>\n",
       "      <th>14</th>\n",
       "      <td>Water (1.5 liter bottle)</td>\n",
       "      <td>413 XOF</td>\n",
       "      <td>Abidjan</td>\n",
       "    </tr>\n",
       "    <tr>\n",
       "      <th>15</th>\n",
       "      <td>A bottle of wine (Mid-Range)</td>\n",
       "      <td>4,200 X</td>\n",
       "      <td>Abidjan</td>\n",
       "    </tr>\n",
       "    <tr>\n",
       "      <th>16</th>\n",
       "      <td>Domestic Beer (0.5 liter bottle)</td>\n",
       "      <td>425 XOF</td>\n",
       "      <td>Abidjan</td>\n",
       "    </tr>\n",
       "    <tr>\n",
       "      <th>17</th>\n",
       "      <td>Imported Beer (0.33 liter bottle)</td>\n",
       "      <td>650 XOF</td>\n",
       "      <td>Abidjan</td>\n",
       "    </tr>\n",
       "    <tr>\n",
       "      <th>18</th>\n",
       "      <td>Pack of Cigarettes (Marlboro)</td>\n",
       "      <td>800 XOF</td>\n",
       "      <td>Abidjan</td>\n",
       "    </tr>\n",
       "    <tr>\n",
       "      <th>19</th>\n",
       "      <td>Chicken breasts (skinless and boneless) - (1kg)</td>\n",
       "      <td>5,000 X</td>\n",
       "      <td>Abidjan</td>\n",
       "    </tr>\n",
       "    <tr>\n",
       "      <th>20</th>\n",
       "      <td>Apples (1kg)</td>\n",
       "      <td>1,400 X</td>\n",
       "      <td>Abidjan</td>\n",
       "    </tr>\n",
       "    <tr>\n",
       "      <th>21</th>\n",
       "      <td>Oranges (1kg)</td>\n",
       "      <td>1,400 X</td>\n",
       "      <td>Abidjan</td>\n",
       "    </tr>\n",
       "    <tr>\n",
       "      <th>22</th>\n",
       "      <td>Potatoes (1kg)</td>\n",
       "      <td>617 XOF</td>\n",
       "      <td>Abidjan</td>\n",
       "    </tr>\n",
       "    <tr>\n",
       "      <th>23</th>\n",
       "      <td>Lettuce (1 head)</td>\n",
       "      <td>383 XOF</td>\n",
       "      <td>Abidjan</td>\n",
       "    </tr>\n",
       "    <tr>\n",
       "      <th>24</th>\n",
       "      <td>Rice (white) (1kg)</td>\n",
       "      <td>720 XOF</td>\n",
       "      <td>Abidjan</td>\n",
       "    </tr>\n",
       "    <tr>\n",
       "      <th>25</th>\n",
       "      <td>Tomato (1kg)</td>\n",
       "      <td>980 XOF</td>\n",
       "      <td>Abidjan</td>\n",
       "    </tr>\n",
       "    <tr>\n",
       "      <th>26</th>\n",
       "      <td>Bananas (1kg)</td>\n",
       "      <td>350 XOF</td>\n",
       "      <td>Abidjan</td>\n",
       "    </tr>\n",
       "    <tr>\n",
       "      <th>27</th>\n",
       "      <td>Onions (1kg)</td>\n",
       "      <td>1,300 X</td>\n",
       "      <td>Abidjan</td>\n",
       "    </tr>\n",
       "    <tr>\n",
       "      <th>28</th>\n",
       "      <td>Beef Round (1kg) (or Equivalent Back Leg Red M...</td>\n",
       "      <td>3,800 X</td>\n",
       "      <td>Abidjan</td>\n",
       "    </tr>\n",
       "    <tr>\n",
       "      <th>29</th>\n",
       "      <td>Pears (1kg)</td>\n",
       "      <td>1,700 X</td>\n",
       "      <td>Abidjan</td>\n",
       "    </tr>\n",
       "    <tr>\n",
       "      <th>...</th>\n",
       "      <td>...</td>\n",
       "      <td>...</td>\n",
       "      <td>...</td>\n",
       "    </tr>\n",
       "    <tr>\n",
       "      <th>31</th>\n",
       "      <td>Perrier Water (small bottle 0,33l)</td>\n",
       "      <td>211 XOF</td>\n",
       "      <td>Abidjan</td>\n",
       "    </tr>\n",
       "    <tr>\n",
       "      <th>32</th>\n",
       "      <td>Sausages (1kg)</td>\n",
       "      <td>13,000</td>\n",
       "      <td>Abidjan</td>\n",
       "    </tr>\n",
       "    <tr>\n",
       "      <th>33</th>\n",
       "      <td>Cottage cheese (1kg)</td>\n",
       "      <td>5,400 X</td>\n",
       "      <td>Abidjan</td>\n",
       "    </tr>\n",
       "    <tr>\n",
       "      <th>34</th>\n",
       "      <td>One-way Ticket (Local Transport)</td>\n",
       "      <td>200 XOF</td>\n",
       "      <td>Abidjan</td>\n",
       "    </tr>\n",
       "    <tr>\n",
       "      <th>35</th>\n",
       "      <td>Monthly Pass (Regular Price)</td>\n",
       "      <td>25,000</td>\n",
       "      <td>Abidjan</td>\n",
       "    </tr>\n",
       "    <tr>\n",
       "      <th>36</th>\n",
       "      <td>Gasoline (1 liter)</td>\n",
       "      <td>607 XOF</td>\n",
       "      <td>Abidjan</td>\n",
       "    </tr>\n",
       "    <tr>\n",
       "      <th>37</th>\n",
       "      <td>Volkswagen Golf 1.4 90 KW Trendline (Or Equiva...</td>\n",
       "      <td>12,000,</td>\n",
       "      <td>Abidjan</td>\n",
       "    </tr>\n",
       "    <tr>\n",
       "      <th>38</th>\n",
       "      <td>Toyota Corolla 1.6l 97kW Comfort (Or Equivalen...</td>\n",
       "      <td>19,000,</td>\n",
       "      <td>Abidjan</td>\n",
       "    </tr>\n",
       "    <tr>\n",
       "      <th>39</th>\n",
       "      <td>Taxi starting price (normal tariff)</td>\n",
       "      <td>350 XOF</td>\n",
       "      <td>Abidjan</td>\n",
       "    </tr>\n",
       "    <tr>\n",
       "      <th>40</th>\n",
       "      <td>Taxi 1km (Normal Tariff)</td>\n",
       "      <td>283 XOF</td>\n",
       "      <td>Abidjan</td>\n",
       "    </tr>\n",
       "    <tr>\n",
       "      <th>41</th>\n",
       "      <td>Taxi 1 hour waiting (normal tariff)</td>\n",
       "      <td>7,500 X</td>\n",
       "      <td>Abidjan</td>\n",
       "    </tr>\n",
       "    <tr>\n",
       "      <th>42</th>\n",
       "      <td>Apartment (1 bedroom) in City Centre</td>\n",
       "      <td>266,000</td>\n",
       "      <td>Abidjan</td>\n",
       "    </tr>\n",
       "    <tr>\n",
       "      <th>43</th>\n",
       "      <td>Apartment (1 bedroom) Outside of Centre</td>\n",
       "      <td>90,000</td>\n",
       "      <td>Abidjan</td>\n",
       "    </tr>\n",
       "    <tr>\n",
       "      <th>44</th>\n",
       "      <td>Apartment (3 bedrooms) in City Centre</td>\n",
       "      <td>975,000</td>\n",
       "      <td>Abidjan</td>\n",
       "    </tr>\n",
       "    <tr>\n",
       "      <th>45</th>\n",
       "      <td>Apartment (3 bedrooms) Outside of Centre</td>\n",
       "      <td>330,000</td>\n",
       "      <td>Abidjan</td>\n",
       "    </tr>\n",
       "    <tr>\n",
       "      <th>46</th>\n",
       "      <td>Charges (electricity, heating, water, garbage)...</td>\n",
       "      <td>150,000</td>\n",
       "      <td>Abidjan</td>\n",
       "    </tr>\n",
       "    <tr>\n",
       "      <th>47</th>\n",
       "      <td>1 min. of prepaid mobile local tariff (No disc...</td>\n",
       "      <td>100 XOF</td>\n",
       "      <td>Abidjan</td>\n",
       "    </tr>\n",
       "    <tr>\n",
       "      <th>48</th>\n",
       "      <td>Internet (60 Mbps or More, Unlimited Data, Cab...</td>\n",
       "      <td>43,000</td>\n",
       "      <td>Abidjan</td>\n",
       "    </tr>\n",
       "    <tr>\n",
       "      <th>49</th>\n",
       "      <td>Fitness Club, Monthly Fee for 1 Adult</td>\n",
       "      <td>45,000</td>\n",
       "      <td>Abidjan</td>\n",
       "    </tr>\n",
       "    <tr>\n",
       "      <th>50</th>\n",
       "      <td>Tennis court rent (1 hour during a weekend)</td>\n",
       "      <td>5,000 X</td>\n",
       "      <td>Abidjan</td>\n",
       "    </tr>\n",
       "    <tr>\n",
       "      <th>51</th>\n",
       "      <td>Cinema, International Release, 1 Seat</td>\n",
       "      <td>5,000 X</td>\n",
       "      <td>Abidjan</td>\n",
       "    </tr>\n",
       "    <tr>\n",
       "      <th>52</th>\n",
       "      <td>1 Pair of Jeans (Levis 501 Or Similar)</td>\n",
       "      <td>51,000</td>\n",
       "      <td>Abidjan</td>\n",
       "    </tr>\n",
       "    <tr>\n",
       "      <th>53</th>\n",
       "      <td>1 Summer Dress in a Chain Store (Zara, H&amp;M,...)</td>\n",
       "      <td>35,000</td>\n",
       "      <td>Abidjan</td>\n",
       "    </tr>\n",
       "    <tr>\n",
       "      <th>54</th>\n",
       "      <td>1 Pair of Nike Running Shoes (Mid-Range)</td>\n",
       "      <td>60,000</td>\n",
       "      <td>Abidjan</td>\n",
       "    </tr>\n",
       "    <tr>\n",
       "      <th>55</th>\n",
       "      <td>1 Pair of Men Leather Business Shoes</td>\n",
       "      <td>45,000</td>\n",
       "      <td>Abidjan</td>\n",
       "    </tr>\n",
       "    <tr>\n",
       "      <th>56</th>\n",
       "      <td>Preschool (or Kindergarten), Private, Monthly ...</td>\n",
       "      <td>41,000</td>\n",
       "      <td>Abidjan</td>\n",
       "    </tr>\n",
       "    <tr>\n",
       "      <th>57</th>\n",
       "      <td>International Primary School, Yearly for 1 Child</td>\n",
       "      <td>2,500,0</td>\n",
       "      <td>Abidjan</td>\n",
       "    </tr>\n",
       "    <tr>\n",
       "      <th>58</th>\n",
       "      <td>Price per square meter for an apartment in cit...</td>\n",
       "      <td>800,000</td>\n",
       "      <td>Abidjan</td>\n",
       "    </tr>\n",
       "    <tr>\n",
       "      <th>59</th>\n",
       "      <td>Price per square meter for an apartment outsid...</td>\n",
       "      <td>616,000</td>\n",
       "      <td>Abidjan</td>\n",
       "    </tr>\n",
       "    <tr>\n",
       "      <th>60</th>\n",
       "      <td>Average Monthly Net Salary (After Tax)</td>\n",
       "      <td>200,000</td>\n",
       "      <td>Abidjan</td>\n",
       "    </tr>\n",
       "  </tbody>\n",
       "</table>\n",
       "<p>61 rows × 3 columns</p>\n",
       "</div>"
      ],
      "text/plain": [
       "                                             products    price     city\n",
       "0                          Meal in a cheap restaurant  2,000 X  Abidjan\n",
       "1   Meal for 2 People, Mid-range Restaurant, Three...  20,000   Abidjan\n",
       "2      McMeal at McDonalds (or Equivalent Combo Meal)  5,000 X  Abidjan\n",
       "3                   Domestic Beer (0.5 liter draught)  1,000 X  Abidjan\n",
       "4                   Imported Beer (0.33 liter bottle)  2,500 X  Abidjan\n",
       "5                      Coke/Pepsi (0.33 liter bottle)  600 XOF  Abidjan\n",
       "6                           Water (0.33 liter bottle)  338 XOF  Abidjan\n",
       "7                                Cappuccino (regular)  1,900 X  Abidjan\n",
       "8                                     Espresso Coffee  1,300 X  Abidjan\n",
       "9                             Cheeseburger (fastfood)  1,500 X  Abidjan\n",
       "10                          Milk (regular), (1 liter)  950 XOF  Abidjan\n",
       "11                 A loaf of fresh white bread (500g)  238 XOF  Abidjan\n",
       "12                                Eggs (regular) (12)  1,300 X  Abidjan\n",
       "13                                 Local Cheese (1kg)  6,900 X  Abidjan\n",
       "14                           Water (1.5 liter bottle)  413 XOF  Abidjan\n",
       "15                       A bottle of wine (Mid-Range)  4,200 X  Abidjan\n",
       "16                   Domestic Beer (0.5 liter bottle)  425 XOF  Abidjan\n",
       "17                  Imported Beer (0.33 liter bottle)  650 XOF  Abidjan\n",
       "18                      Pack of Cigarettes (Marlboro)  800 XOF  Abidjan\n",
       "19    Chicken breasts (skinless and boneless) - (1kg)  5,000 X  Abidjan\n",
       "20                                       Apples (1kg)  1,400 X  Abidjan\n",
       "21                                      Oranges (1kg)  1,400 X  Abidjan\n",
       "22                                     Potatoes (1kg)  617 XOF  Abidjan\n",
       "23                                   Lettuce (1 head)  383 XOF  Abidjan\n",
       "24                                 Rice (white) (1kg)  720 XOF  Abidjan\n",
       "25                                       Tomato (1kg)  980 XOF  Abidjan\n",
       "26                                      Bananas (1kg)  350 XOF  Abidjan\n",
       "27                                       Onions (1kg)  1,300 X  Abidjan\n",
       "28  Beef Round (1kg) (or Equivalent Back Leg Red M...  3,800 X  Abidjan\n",
       "29                                        Pears (1kg)  1,700 X  Abidjan\n",
       "..                                                ...      ...      ...\n",
       "31                 Perrier Water (small bottle 0,33l)  211 XOF  Abidjan\n",
       "32                                     Sausages (1kg)  13,000   Abidjan\n",
       "33                               Cottage cheese (1kg)  5,400 X  Abidjan\n",
       "34                   One-way Ticket (Local Transport)  200 XOF  Abidjan\n",
       "35                       Monthly Pass (Regular Price)  25,000   Abidjan\n",
       "36                                 Gasoline (1 liter)  607 XOF  Abidjan\n",
       "37  Volkswagen Golf 1.4 90 KW Trendline (Or Equiva...  12,000,  Abidjan\n",
       "38  Toyota Corolla 1.6l 97kW Comfort (Or Equivalen...  19,000,  Abidjan\n",
       "39                Taxi starting price (normal tariff)  350 XOF  Abidjan\n",
       "40                           Taxi 1km (Normal Tariff)  283 XOF  Abidjan\n",
       "41                Taxi 1 hour waiting (normal tariff)  7,500 X  Abidjan\n",
       "42               Apartment (1 bedroom) in City Centre  266,000  Abidjan\n",
       "43            Apartment (1 bedroom) Outside of Centre  90,000   Abidjan\n",
       "44              Apartment (3 bedrooms) in City Centre  975,000  Abidjan\n",
       "45           Apartment (3 bedrooms) Outside of Centre  330,000  Abidjan\n",
       "46  Charges (electricity, heating, water, garbage)...  150,000  Abidjan\n",
       "47  1 min. of prepaid mobile local tariff (No disc...  100 XOF  Abidjan\n",
       "48  Internet (60 Mbps or More, Unlimited Data, Cab...  43,000   Abidjan\n",
       "49              Fitness Club, Monthly Fee for 1 Adult  45,000   Abidjan\n",
       "50        Tennis court rent (1 hour during a weekend)  5,000 X  Abidjan\n",
       "51              Cinema, International Release, 1 Seat  5,000 X  Abidjan\n",
       "52             1 Pair of Jeans (Levis 501 Or Similar)  51,000   Abidjan\n",
       "53    1 Summer Dress in a Chain Store (Zara, H&M,...)  35,000   Abidjan\n",
       "54           1 Pair of Nike Running Shoes (Mid-Range)  60,000   Abidjan\n",
       "55               1 Pair of Men Leather Business Shoes  45,000   Abidjan\n",
       "56  Preschool (or Kindergarten), Private, Monthly ...  41,000   Abidjan\n",
       "57   International Primary School, Yearly for 1 Child  2,500,0  Abidjan\n",
       "58  Price per square meter for an apartment in cit...  800,000  Abidjan\n",
       "59  Price per square meter for an apartment outsid...  616,000  Abidjan\n",
       "60             Average Monthly Net Salary (After Tax)  200,000  Abidjan\n",
       "\n",
       "[61 rows x 3 columns]"
      ]
     },
     "execution_count": 62,
     "metadata": {},
     "output_type": "execute_result"
    }
   ],
   "source": [
    "df_abj"
   ]
  },
  {
   "cell_type": "code",
   "execution_count": 54,
   "metadata": {},
   "outputs": [
    {
     "data": {
      "text/plain": [
       "(61, 3)"
      ]
     },
     "execution_count": 54,
     "metadata": {},
     "output_type": "execute_result"
    }
   ],
   "source": [
    "df_abj.shape"
   ]
  }
 ],
 "metadata": {
  "kernelspec": {
   "display_name": "Python 3",
   "language": "python",
   "name": "python3"
  },
  "language_info": {
   "codemirror_mode": {
    "name": "ipython",
    "version": 3
   },
   "file_extension": ".py",
   "mimetype": "text/x-python",
   "name": "python",
   "nbconvert_exporter": "python",
   "pygments_lexer": "ipython3",
   "version": "3.8.5"
  }
 },
 "nbformat": 4,
 "nbformat_minor": 2
}
